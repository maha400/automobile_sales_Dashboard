{
  "nbformat": 4,
  "nbformat_minor": 0,
  "metadata": {
    "colab": {
      "provenance": []
    },
    "kernelspec": {
      "name": "python3",
      "display_name": "Python 3"
    },
    "language_info": {
      "name": "python"
    }
  },
  "cells": [
    {
      "cell_type": "code",
      "source": [
        "!pip install dash"
      ],
      "metadata": {
        "colab": {
          "base_uri": "https://localhost:8080/"
        },
        "id": "8I7sIFeRFMil",
        "outputId": "d083e487-c041-4358-a5fb-80f0e730f12d"
      },
      "execution_count": 1,
      "outputs": [
        {
          "output_type": "stream",
          "name": "stdout",
          "text": [
            "Collecting dash\n",
            "  Downloading dash-2.16.1-py3-none-any.whl (10.2 MB)\n",
            "\u001b[2K     \u001b[90m━━━━━━━━━━━━━━━━━━━━━━━━━━━━━━━━━━━━━━━━\u001b[0m \u001b[32m10.2/10.2 MB\u001b[0m \u001b[31m13.3 MB/s\u001b[0m eta \u001b[36m0:00:00\u001b[0m\n",
            "\u001b[?25hRequirement already satisfied: Flask<3.1,>=1.0.4 in /usr/local/lib/python3.10/dist-packages (from dash) (2.2.5)\n",
            "Requirement already satisfied: Werkzeug<3.1 in /usr/local/lib/python3.10/dist-packages (from dash) (3.0.1)\n",
            "Requirement already satisfied: plotly>=5.0.0 in /usr/local/lib/python3.10/dist-packages (from dash) (5.15.0)\n",
            "Collecting dash-html-components==2.0.0 (from dash)\n",
            "  Downloading dash_html_components-2.0.0-py3-none-any.whl (4.1 kB)\n",
            "Collecting dash-core-components==2.0.0 (from dash)\n",
            "  Downloading dash_core_components-2.0.0-py3-none-any.whl (3.8 kB)\n",
            "Collecting dash-table==5.0.0 (from dash)\n",
            "  Downloading dash_table-5.0.0-py3-none-any.whl (3.9 kB)\n",
            "Requirement already satisfied: importlib-metadata in /usr/local/lib/python3.10/dist-packages (from dash) (7.0.2)\n",
            "Requirement already satisfied: typing-extensions>=4.1.1 in /usr/local/lib/python3.10/dist-packages (from dash) (4.10.0)\n",
            "Requirement already satisfied: requests in /usr/local/lib/python3.10/dist-packages (from dash) (2.31.0)\n",
            "Collecting retrying (from dash)\n",
            "  Downloading retrying-1.3.4-py3-none-any.whl (11 kB)\n",
            "Requirement already satisfied: nest-asyncio in /usr/local/lib/python3.10/dist-packages (from dash) (1.6.0)\n",
            "Requirement already satisfied: setuptools in /usr/local/lib/python3.10/dist-packages (from dash) (67.7.2)\n",
            "Requirement already satisfied: Jinja2>=3.0 in /usr/local/lib/python3.10/dist-packages (from Flask<3.1,>=1.0.4->dash) (3.1.3)\n",
            "Requirement already satisfied: itsdangerous>=2.0 in /usr/local/lib/python3.10/dist-packages (from Flask<3.1,>=1.0.4->dash) (2.1.2)\n",
            "Requirement already satisfied: click>=8.0 in /usr/local/lib/python3.10/dist-packages (from Flask<3.1,>=1.0.4->dash) (8.1.7)\n",
            "Requirement already satisfied: tenacity>=6.2.0 in /usr/local/lib/python3.10/dist-packages (from plotly>=5.0.0->dash) (8.2.3)\n",
            "Requirement already satisfied: packaging in /usr/local/lib/python3.10/dist-packages (from plotly>=5.0.0->dash) (24.0)\n",
            "Requirement already satisfied: MarkupSafe>=2.1.1 in /usr/local/lib/python3.10/dist-packages (from Werkzeug<3.1->dash) (2.1.5)\n",
            "Requirement already satisfied: zipp>=0.5 in /usr/local/lib/python3.10/dist-packages (from importlib-metadata->dash) (3.17.0)\n",
            "Requirement already satisfied: charset-normalizer<4,>=2 in /usr/local/lib/python3.10/dist-packages (from requests->dash) (3.3.2)\n",
            "Requirement already satisfied: idna<4,>=2.5 in /usr/local/lib/python3.10/dist-packages (from requests->dash) (3.6)\n",
            "Requirement already satisfied: urllib3<3,>=1.21.1 in /usr/local/lib/python3.10/dist-packages (from requests->dash) (2.0.7)\n",
            "Requirement already satisfied: certifi>=2017.4.17 in /usr/local/lib/python3.10/dist-packages (from requests->dash) (2024.2.2)\n",
            "Requirement already satisfied: six>=1.7.0 in /usr/local/lib/python3.10/dist-packages (from retrying->dash) (1.16.0)\n",
            "Installing collected packages: dash-table, dash-html-components, dash-core-components, retrying, dash\n",
            "Successfully installed dash-2.16.1 dash-core-components-2.0.0 dash-html-components-2.0.0 dash-table-5.0.0 retrying-1.3.4\n"
          ]
        }
      ]
    },
    {
      "cell_type": "code",
      "source": [
        "!pip install pandas\n",
        "!pip install plotly"
      ],
      "metadata": {
        "colab": {
          "base_uri": "https://localhost:8080/"
        },
        "id": "0SHGm4YpFd2R",
        "outputId": "36dab78e-01e1-4006-9afd-c5e4b007da8f"
      },
      "execution_count": 2,
      "outputs": [
        {
          "output_type": "stream",
          "name": "stdout",
          "text": [
            "Requirement already satisfied: pandas in /usr/local/lib/python3.10/dist-packages (1.5.3)\n",
            "Requirement already satisfied: python-dateutil>=2.8.1 in /usr/local/lib/python3.10/dist-packages (from pandas) (2.8.2)\n",
            "Requirement already satisfied: pytz>=2020.1 in /usr/local/lib/python3.10/dist-packages (from pandas) (2023.4)\n",
            "Requirement already satisfied: numpy>=1.21.0 in /usr/local/lib/python3.10/dist-packages (from pandas) (1.25.2)\n",
            "Requirement already satisfied: six>=1.5 in /usr/local/lib/python3.10/dist-packages (from python-dateutil>=2.8.1->pandas) (1.16.0)\n",
            "Requirement already satisfied: plotly in /usr/local/lib/python3.10/dist-packages (5.15.0)\n",
            "Requirement already satisfied: tenacity>=6.2.0 in /usr/local/lib/python3.10/dist-packages (from plotly) (8.2.3)\n",
            "Requirement already satisfied: packaging in /usr/local/lib/python3.10/dist-packages (from plotly) (24.0)\n"
          ]
        }
      ]
    },
    {
      "cell_type": "code",
      "execution_count": 14,
      "metadata": {
        "id": "_eHMH3LAFGU_"
      },
      "outputs": [],
      "source": [
        "import dash\n",
        "from dash import dcc\n",
        "from dash import html\n",
        "from dash.dependencies import Input, Output\n",
        "import pandas as pd\n",
        "import plotly.graph_objs as go\n",
        "import plotly.express as px"
      ]
    },
    {
      "cell_type": "code",
      "source": [
        "# Load the data using pandas\n",
        "data = pd.read_csv('https://cf-courses-data.s3.us.cloud-object-storage.appdomain.cloud/IBMDeveloperSkillsNetwork-DV0101EN-SkillsNetwork/Data%20Files/historical_automobile_sales.csv')"
      ],
      "metadata": {
        "id": "kGWjRiwXFrHQ"
      },
      "execution_count": 24,
      "outputs": []
    },
    {
      "cell_type": "code",
      "source": [
        "# Initialize the Dash app\n",
        "app = dash.Dash(__name__)"
      ],
      "metadata": {
        "id": "zjer6kPUGB90"
      },
      "execution_count": 25,
      "outputs": []
    },
    {
      "cell_type": "code",
      "source": [
        "# Set the title of the dashboard\n",
        "app.title = \"Automobile Statistics Dashboard\""
      ],
      "metadata": {
        "id": "AFhHLRfXGB_c"
      },
      "execution_count": 26,
      "outputs": []
    },
    {
      "cell_type": "code",
      "source": [
        "# Create the dropdown menu options\n",
        "dropdown_options = [\n",
        "    {'label': 'Yearly Statistics', 'value': 'Yearly Statistics'},\n",
        "    {'label': 'Recession Period Statistics', 'value': 'Recession Period Statistics'}\n",
        "]\n",
        "# List of years\n",
        "year_list = [i for i in range(1980, 2024, 1)]"
      ],
      "metadata": {
        "id": "3SYdjOS9GCCv"
      },
      "execution_count": 27,
      "outputs": []
    },
    {
      "cell_type": "code",
      "source": [
        "# Create the layout of the app\n",
        "app.layout = html.Div([\n",
        "    html.A('Open in new tab', href='/newtab', target='_blank'),\n",
        "    #Add title to the dashboard\n",
        "    html.H1(\"Automobile Sales Statistics Dashboard\",\n",
        "                                style={'textAlign':'left',\n",
        "                                        'color':'#503D36',\n",
        "                                        'font-size':24}),\n",
        "    html.Div([#Add two dropdown menus\n",
        "        html.Label(\"Select Statistics:\"),\n",
        "        dcc.Dropdown(\n",
        "            id='dropdown-statistics',\n",
        "            options=dropdown_options,\n",
        "            value='Select Statistics',\n",
        "            placeholder='Select a report type'\n",
        "        )\n",
        "    ]),\n",
        "   html.Div(dcc.Dropdown(\n",
        "            id='select-year',\n",
        "            options=[{'label': i, 'value': i} for i in year_list],\n",
        "            value='select-year'\n",
        "        )),\n",
        "    html.Div([#Add a division for output display\n",
        "    html.Div(id='output-container', className='chart-grid', style={'display':'flex'}),])\n",
        "])"
      ],
      "metadata": {
        "id": "Z1ILFWWRGCHG"
      },
      "execution_count": 28,
      "outputs": []
    },
    {
      "cell_type": "code",
      "source": [
        "#TASK 2.4: Creating Callbacks\n",
        "# Define the callback function to update the input container based on the selected statistics\n",
        "@app.callback(\n",
        "    Output(component_id='select-year', component_property='disabled'),\n",
        "    Input(component_id='dropdown-statistics',component_property='value'))\n",
        "\n",
        "def update_input_container(selected_statistics):\n",
        "    if selected_statistics =='Yearly Statistics':\n",
        "        return False\n",
        "    else:\n",
        "        return True"
      ],
      "metadata": {
        "id": "lwqyshJ7GYer"
      },
      "execution_count": 29,
      "outputs": []
    },
    {
      "cell_type": "code",
      "source": [
        "#Callback for plotting\n",
        "# Define the callback function to update the input container based on the selected statistics\n",
        "@app.callback(\n",
        "    Output(component_id='output-container', component_property='children'),\n",
        "    [Input(component_id='dropdown-statistics', component_property='value'), Input(component_id='select-year', component_property='value')])\n",
        "\n",
        "def update_output_container(selected_statistics, input_year):\n",
        "    if selected_statistics == 'Recession Period Statistics':\n",
        "        # Filter the data for recession periods\n",
        "        recession_data = data[data['Recession'] == 1]\n",
        "\n",
        "#TASK 2.5: Create and display graphs for Recession Report Statistics\n",
        "\n",
        "#Plot 1 Automobile sales fluctuate over Recession Period (year wise)\n",
        "        # use groupby to create relevant data for plotting\n",
        "        yearly_rec=recession_data.groupby('Year')['Automobile_Sales'].mean().reset_index()\n",
        "        R_chart1 = dcc.Graph(\n",
        "            figure=px.line(yearly_rec,\n",
        "                x='Year',\n",
        "                y='Automobile_Sales',\n",
        "                title=\"Average Automobile Sales fluctuation over Recession Period\"))\n",
        "\n",
        "#Plot 2 Calculate the average number of vehicles sold by vehicle type\n",
        "        # use groupby to create relevant data for plotting\n",
        "        average_sales = recession_data.groupby('Vehicle_Type')['Automobile_Sales'].mean().reset_index()\n",
        "        R_chart2  = dcc.Graph(figure=px.bar(average_sales, x= 'Vehicle_Type', y= 'Automobile_Sales',\n",
        "                title='Average Number of Vehicles Sold by Type'))\n",
        "\n",
        "# Plot 3 Pie chart for total expenditure share by vehicle type during recessions\n",
        "        # use groupby to create relevant data for plotting\n",
        "        exp_rec= recession_data.groupby('Vehicle_Type')['Advertising_Expenditure'].sum().reset_index()\n",
        "        R_chart3 = dcc.Graph(\n",
        "                    figure=px.pie(exp_rec,\n",
        "                    values='Advertising_Expenditure',\n",
        "                 names='Vehicle_Type',\n",
        "                 title=\"Total Expenditure by Vehicle Type\"\n",
        "                ))\n",
        "\n",
        "# Plot 4 bar chart for the effect of unemployment rate on vehicle type and sales\n",
        "        unempl = recession_data.groupby(['Vehicle_Type', 'unemployment_rate'])['Automobile_Sales'].mean().reset_index()\n",
        "        print(unempl.columns)\n",
        "        R_chart4 = dcc.Graph(\n",
        "                    figure=px.bar(unempl,\n",
        "                    x='Vehicle_Type',\n",
        "                    y='Automobile_Sales',\n",
        "                    color='unemployment_rate',\n",
        "                    title='Effect of Unemployment Rate on Vehicle Type and Sales'\n",
        "                    ))\n",
        "\n",
        "\n",
        "        return [\n",
        "            html.Div(className='chart-grid', children=[html.Div(children=R_chart1),html.Div(children=R_chart2)],style={'display':'grid'}),\n",
        "            html.Div(className='chart-grid', children=[html.Div(children=R_chart3),html.Div(children=R_chart4)],style={'display':'grid'})\n",
        "            ]\n",
        "# TASK 2.6: Create and display graphs for Yearly Report Statistics\n",
        " # Yearly Statistic Report Plots\n",
        "    elif (input_year and selected_statistics=='Yearly Statistics') :\n",
        "        yearly_data = data[data['Year'] == input_year]\n",
        "\n",
        "#TASK 2.5: Creating Graphs Yearly data\n",
        "\n",
        "#plot 1 Yearly Automobile sales using line chart for the whole period.\n",
        "        yas= data.groupby('Year')['Automobile_Sales'].mean().reset_index()\n",
        "        Y_chart1 = dcc.Graph(figure=px.line(yas, x='Year', y='Automobile_Sales',title=\"Yearly Automobile sales\"))\n",
        "\n",
        "# Plot 2 Total Monthly Automobile sales using line chart.\n",
        "        monthly_sales = data.groupby('Month')['Automobile_Sales'].sum().reset_index()\n",
        "        Y_chart2 = dcc.Graph(figure=px.line(monthly_sales, x= 'Month', y='Automobile_Sales',\n",
        "            title= 'Total Monthly Automobile Sales'))\n",
        "\n",
        "            # Plot bar chart for average number of vehicles sold during the given year\n",
        "        avr_vdata=yearly_data.groupby('Year')['Automobile_Sales'].mean().reset_index()\n",
        "        Y_chart3 = dcc.Graph( figure =px.bar(avr_vdata,x='Year', y='Automobile_Sales',title='Average Vehicles Sold by Vehicle Type in the year {}'.format(input_year)))\n",
        "\n",
        "            # Total Advertisement Expenditure for each vehicle using pie chart\n",
        "        exp_data=yearly_data.groupby('Vehicle_Type')['Advertising_Expenditure'].sum().reset_index()\n",
        "        Y_chart4 = dcc.Graph(figure=px.pie(exp_data, values = 'Advertising_Expenditure', names='Vehicle_Type',title='Total Advertisement Expenditure for each vehicle type'))\n",
        "\n",
        "#TASK 2.6: Returning the graphs for displaying Yearly data\n",
        "        return [\n",
        "            html.Div(className='chart-grid', children=[html.Div(children=Y_chart1),html.Div(children=Y_chart2)],style={'display': 'grid'}),\n",
        "            html.Div(className='chart-grid', children=[html.Div(children=Y_chart3),html.Div(children=Y_chart4)],style={'display': 'grid'})\n",
        "            ]\n"
      ],
      "metadata": {
        "id": "ynT8QkGlGYgd"
      },
      "execution_count": 30,
      "outputs": []
    },
    {
      "cell_type": "code",
      "source": [
        "# Run the Dash app\n",
        "if __name__ == '__main__':\n",
        "    app.run_server(debug=True)"
      ],
      "metadata": {
        "colab": {
          "base_uri": "https://localhost:8080/",
          "height": 672
        },
        "id": "-rBgwLueGYjs",
        "outputId": "6e91b8ce-4493-4a9e-c7e7-ac148ff2647b"
      },
      "execution_count": 31,
      "outputs": [
        {
          "output_type": "display_data",
          "data": {
            "text/plain": [
              "<IPython.core.display.Javascript object>"
            ],
            "application/javascript": [
              "(async (port, path, width, height, cache, element) => {\n",
              "    if (!google.colab.kernel.accessAllowed && !cache) {\n",
              "      return;\n",
              "    }\n",
              "    element.appendChild(document.createTextNode(''));\n",
              "    const url = await google.colab.kernel.proxyPort(port, {cache});\n",
              "    const iframe = document.createElement('iframe');\n",
              "    iframe.src = new URL(path, url).toString();\n",
              "    iframe.height = height;\n",
              "    iframe.width = width;\n",
              "    iframe.style.border = 0;\n",
              "    iframe.allow = [\n",
              "        'accelerometer',\n",
              "        'autoplay',\n",
              "        'camera',\n",
              "        'clipboard-read',\n",
              "        'clipboard-write',\n",
              "        'gyroscope',\n",
              "        'magnetometer',\n",
              "        'microphone',\n",
              "        'serial',\n",
              "        'usb',\n",
              "        'xr-spatial-tracking',\n",
              "    ].join('; ');\n",
              "    element.appendChild(iframe);\n",
              "  })(8050, \"/\", \"100%\", 650, false, window.element)"
            ]
          },
          "metadata": {}
        }
      ]
    },
    {
      "cell_type": "code",
      "source": [],
      "metadata": {
        "id": "F473-ryYGYnp"
      },
      "execution_count": null,
      "outputs": []
    },
    {
      "cell_type": "code",
      "source": [],
      "metadata": {
        "id": "GUauas5jGYpT"
      },
      "execution_count": null,
      "outputs": []
    }
  ]
}